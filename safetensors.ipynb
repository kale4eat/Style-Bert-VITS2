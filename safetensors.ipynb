{
 "cells": [
  {
   "cell_type": "code",
   "execution_count": 3,
   "metadata": {},
   "outputs": [],
   "source": [
    "import torch\n",
    "\n",
    "model_dir = \"pretrained-Japanese-Extra\"\n",
    "step = 0\n",
    "\n",
    "g_model = torch.load(f\"{model_dir}/G_{step}.pth\", map_location=\"cpu\")\n",
    "d_model = torch.load(f\"{model_dir}/D_{step}.pth\", map_location=\"cpu\")\n",
    "wd_model = torch.load(f\"{model_dir}/WD_{step}.pth\", map_location=\"cpu\")"
   ]
  },
  {
   "cell_type": "code",
   "execution_count": 8,
   "metadata": {},
   "outputs": [
    {
     "name": "stdout",
     "output_type": "stream",
     "text": [
      "skip enc_p.in_feature_net.0.weight\n",
      "skip enc_p.in_feature_net.2.weight\n",
      "skip enc_p.in_feature_net.2.bias\n",
      "skip enc_p.in_feature_net.3.norm.weight\n",
      "skip enc_p.in_feature_net.3.norm.bias\n",
      "skip enc_p.in_feature_net.3.mlp.c_fc1.weight\n",
      "skip enc_p.in_feature_net.3.mlp.c_fc2.weight\n",
      "skip enc_p.in_feature_net.3.mlp.c_proj.weight\n",
      "skip enc_p.in_feature_net.4.weight\n",
      "skip enc_p.emo_vq._codebook.initted\n",
      "skip enc_p.emo_vq._codebook.cluster_size\n",
      "skip enc_p.emo_vq._codebook.embed_avg\n",
      "skip enc_p.emo_vq._codebook.embed\n",
      "skip enc_p.out_feature_net.weight\n",
      "skip enc_p.out_feature_net.bias\n"
     ]
    }
   ],
   "source": [
    "g_dict = {}\n",
    "skip_list = [\"enc_p.in_feature_net.\", \"enc_p.emo_vq.\", \"enc_p.out_feature_net.\"]\n",
    "for key in g_model[\"model\"].keys():\n",
    "    if any([key.startswith(s) for s in skip_list]):\n",
    "        print(f\"skip {key}\")\n",
    "        continue\n",
    "    else:\n",
    "        g_dict[key] = g_model[\"model\"][key]"
   ]
  },
  {
   "cell_type": "code",
   "execution_count": 9,
   "metadata": {},
   "outputs": [],
   "source": [
    "d_dict = {}\n",
    "for key in d_model[\"model\"].keys():\n",
    "    d_dict[key] = d_model[\"model\"][key]"
   ]
  },
  {
   "cell_type": "code",
   "execution_count": 10,
   "metadata": {},
   "outputs": [],
   "source": [
    "wd_dict = {}\n",
    "for key in wd_model[\"model\"].keys():\n",
    "    wd_dict[key] = wd_model[\"model\"][key]"
   ]
  },
  {
   "cell_type": "code",
   "execution_count": 11,
   "metadata": {},
   "outputs": [],
   "source": [
    "from safetensors.torch import save_file\n",
    "\n",
    "\n",
    "save_file(g_dict, f\"G_0.safetensors\")\n",
    "save_file (d_dict, f\"D_0.safetensors\")\n",
    "save_file (wd_dict, f\"WD_0.safetensors\")"
   ]
  }
 ],
 "metadata": {
  "kernelspec": {
   "display_name": "venv",
   "language": "python",
   "name": "python3"
  },
  "language_info": {
   "codemirror_mode": {
    "name": "ipython",
    "version": 3
   },
   "file_extension": ".py",
   "mimetype": "text/x-python",
   "name": "python",
   "nbconvert_exporter": "python",
   "pygments_lexer": "ipython3",
   "version": "3.10.11"
  }
 },
 "nbformat": 4,
 "nbformat_minor": 2
}
